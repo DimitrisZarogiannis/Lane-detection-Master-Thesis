{
 "cells": [
  {
   "cell_type": "code",
   "execution_count": 3,
   "metadata": {},
   "outputs": [],
   "source": [
    "# Imports \n",
    "import torch\n",
    "import torch.nn as nn\n",
    "import torch.nn.functional as F\n",
    "import numpy as np\n",
    "import random\n",
    "import cv2\n",
    "import os\n",
    "import json\n",
    "import math\n",
    "import torch.nn.init as init\n",
    "from torchvision.models import ViT_B_16_Weights\n",
    "from torch.utils.data import DataLoader\n",
    "import matplotlib as plt\n",
    "import torch.nn.functional as F\n",
    "\n",
    "from torch.utils.data import DataLoader\n",
    "from torchmetrics import F1Score,JaccardIndex\n",
    "from torch.optim.lr_scheduler import ReduceLROnPlateau\n",
    "import torch.optim as optim\n",
    "import matplotlib.pyplot as plt\n",
    "import torchvision.transforms as transforms\n",
    "\n",
    "# Import TuSimple loader\n",
    "import sys\n",
    "sys.path.insert(0,'../resources/')\n",
    "from tusimple import TuSimple\n",
    "from mlp_decoder import DecoderMLP\n",
    "import segnet_backbone as cnn\n",
    "import utils\n",
    "\n",
    "# Set seed for randomize functions (Ez reproduction of results)\n",
    "random.seed(100)"
   ]
  },
  {
   "cell_type": "code",
   "execution_count": 4,
   "metadata": {},
   "outputs": [],
   "source": [
    "# ROOT DIRECTORIES\n",
    "root_dir = os.path.dirname(os.getcwd())\n",
    "annotated_dir = os.path.join(root_dir,'datasets/tusimple/train_set/annotations')\n",
    "clips_dir = os.path.join(root_dir,'datasets/tusimple/train_set/')\n",
    "annotated_dir_test = os.path.join(root_dir,'datasets/tusimple/test_set/annotations/')\n",
    "test_clips_dir = os.path.join(root_dir,'datasets/tusimple/test_set/')\n",
    "\n",
    "\n",
    "annotated = os.listdir(annotated_dir)\n",
    "\n",
    "test_annotated = os.listdir(annotated_dir_test)"
   ]
  },
  {
   "cell_type": "code",
   "execution_count": 5,
   "metadata": {},
   "outputs": [],
   "source": [
    "# Get path directories for clips and annotations for the TUSimple training  dataset + ground truth dictionary\n",
    "annotations = list()\n",
    "for gt_file in annotated:\n",
    "    path = os.path.join(annotated_dir,gt_file)\n",
    "    json_gt = [json.loads(line) for line in open(path)]\n",
    "    annotations.append(json_gt)\n",
    "    \n",
    "annotations = [a for f in annotations for a in f]\n",
    "\n",
    "# Load dataset / Calculate pos weight\n",
    "dataset = TuSimple(train_annotations = annotations, train_img_dir = clips_dir, resize_to = (448,448), subset_size = 0.001,val_size= 0.1)\n",
    "train_set, validation_set = dataset.train_val_split()\n",
    "del dataset\n",
    "\n",
    "# Lane weight\n",
    "pos_weight = utils.calculate_class_weight(train_set)"
   ]
  },
  {
   "cell_type": "code",
   "execution_count": 6,
   "metadata": {},
   "outputs": [
    {
     "name": "stdout",
     "output_type": "stream",
     "text": [
      "Number of trainable parameters : 29443587\n",
      "Loaded state dict succesfully!\n"
     ]
    }
   ],
   "source": [
    "model = cnn.SegNet()\n",
    "print(f'Number of trainable parameters : {model.count_parameters()}')\n",
    "model.load_weights('../models/best_segnet.pth')"
   ]
  },
  {
   "cell_type": "code",
   "execution_count": 7,
   "metadata": {},
   "outputs": [],
   "source": [
    "img_tns,gt = validation_set[0]\n",
    "\n",
    "model.eval()\n",
    "test_pred, test_features = model.predict(img_tns.unsqueeze(0))\n"
   ]
  },
  {
   "cell_type": "code",
   "execution_count": 8,
   "metadata": {},
   "outputs": [
    {
     "data": {
      "text/plain": [
       "torch.Size([1, 64, 448, 448])"
      ]
     },
     "execution_count": 8,
     "metadata": {},
     "output_type": "execute_result"
    }
   ],
   "source": [
    "test_features.shape"
   ]
  },
  {
   "cell_type": "code",
   "execution_count": 37,
   "metadata": {},
   "outputs": [],
   "source": [
    "# Channel Attention module\n",
    "class TransformerChannelAttention(nn.Module):\n",
    "    def __init__(self, dim, heads, mlp_dim, depth, in_channels):\n",
    "        super(TransformerChannelAttention, self).__init__()\n",
    "        self.transformer = nn.TransformerEncoder(\n",
    "            nn.TransformerEncoderLayer(d_model=dim, nhead=heads, dim_feedforward=mlp_dim),\n",
    "            num_layers=depth\n",
    "        )\n",
    "        self.avg_pool = nn.AdaptiveAvgPool2d((1, 1))\n",
    "        self.fc = nn.Linear(in_channels, in_channels)\n",
    "        \n",
    "        # define the pooling layer to reduce spatial dimensions\n",
    "        self.pool = nn.MaxPool2d(kernel_size=4, stride=4)\n",
    "        # define the unpooling layer to recover original spatial dimensions\n",
    "        self.unpool = nn.Upsample(scale_factor=4, mode='bilinear', align_corners=False)\n",
    "        \n",
    "    def forward(self, x):\n",
    "        batch_size, num_channels, height, width = x.shape\n",
    "        \n",
    "        # Pass through the pooling layer to reduce spatial dimensions for computational reasons\n",
    "        x = self.pool(x)\n",
    "        height = height//4\n",
    "        width = width//4\n",
    "\n",
    "        \n",
    "        # Reformat the inputs to the appropriate format for the transformer\n",
    "        x = x.view(height*width, batch_size, num_channels)\n",
    "        x = x.permute(1, 0, 2)   # shape: (batch_size, seq_length, num_channels)\n",
    "\n",
    "        # Perform channel wise attention to the reduced feature maps\n",
    "        x = self.transformer(x)  # shape: (batch_size, seq_length, num_channels)\n",
    "        x = x.permute(1, 0, 2)  # swap back seq_length and batch_size dimensions\n",
    "        x = x.view(batch_size, num_channels, height, width)  # shape: (batch_size, num_channels, height, width)\n",
    "        \n",
    "        # Reshape back to original spatial dimensions\n",
    "        x = self.unpool(x)\n",
    "        height,width = height * 4, width*4\n",
    "        \n",
    "        # Average pooling to get one value per channel and calculate channel attention weights \n",
    "        attn = self.avg_pool(x)  # shape: (batch_size, num_channels, 1, 1)\n",
    "        attn = attn.view(batch_size, num_channels)  # shape: (batch_size, num_channels)\n",
    "        attn = self.fc(attn)  # shape: (batch_size, num_channels)\n",
    "        attn = attn.unsqueeze(-1).unsqueeze(-1)  # shape: (batch_size, num_channels, 1, 1)\n",
    "        \n",
    "        # Weight the transformed features based on channel attention and keep best features\n",
    "        trans_features = (x * attn).sum(dim=1, keepdim=True)  # shape: (batch_size, 1, height, width)\n",
    "\n",
    "        # Pass through sigmoid to get attention-weighted probabilities\n",
    "        mask_probs = torch.sigmoid(trans_features)\n",
    "        return trans_features, mask_probs"
   ]
  },
  {
   "cell_type": "code",
   "execution_count": 38,
   "metadata": {},
   "outputs": [],
   "source": [
    "ca_module = TransformerChannelAttention(dim = 64 ,heads=8,mlp_dim=2048,depth=3,in_channels=64)"
   ]
  },
  {
   "cell_type": "code",
   "execution_count": 39,
   "metadata": {},
   "outputs": [],
   "source": [
    "test = ca_module(test_features)"
   ]
  },
  {
   "cell_type": "code",
   "execution_count": 40,
   "metadata": {},
   "outputs": [
    {
     "data": {
      "text/plain": [
       "tensor([0.1033, 0.1091, 0.1092,  ..., 0.8657, 0.8695, 0.8696],\n",
       "       grad_fn=<Unique2Backward0>)"
      ]
     },
     "execution_count": 40,
     "metadata": {},
     "output_type": "execute_result"
    }
   ],
   "source": [
    "test.unique()"
   ]
  },
  {
   "cell_type": "code",
   "execution_count": null,
   "metadata": {},
   "outputs": [],
   "source": []
  }
 ],
 "metadata": {
  "kernelspec": {
   "display_name": "py10",
   "language": "python",
   "name": "python3"
  },
  "language_info": {
   "codemirror_mode": {
    "name": "ipython",
    "version": 3
   },
   "file_extension": ".py",
   "mimetype": "text/x-python",
   "name": "python",
   "nbconvert_exporter": "python",
   "pygments_lexer": "ipython3",
   "version": "3.10.4"
  },
  "orig_nbformat": 4
 },
 "nbformat": 4,
 "nbformat_minor": 2
}
