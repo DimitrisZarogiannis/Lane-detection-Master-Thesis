{
 "cells": [
  {
   "cell_type": "code",
   "execution_count": 1,
   "metadata": {},
   "outputs": [
    {
     "name": "stderr",
     "output_type": "stream",
     "text": [
      "/home/dimitris/anaconda3/envs/py10/lib/python3.10/site-packages/torchvision/io/image.py:13: UserWarning: Failed to load image Python extension: /home/dimitris/anaconda3/envs/py10/lib/python3.10/site-packages/torchvision/image.so: undefined symbol: _ZN5torch3jit17parseSchemaOrNameERKNSt7__cxx1112basic_stringIcSt11char_traitsIcESaIcEEE\n",
      "  warn(f\"Failed to load image Python extension: {e}\")\n"
     ]
    }
   ],
   "source": [
    "# Imports \n",
    "import torch\n",
    "import torch.nn as nn\n",
    "import torch.nn.functional as F\n",
    "import numpy as np\n",
    "import random\n",
    "import cv2\n",
    "import os\n",
    "import json\n",
    "import math\n",
    "import torch.nn.init as init\n",
    "import torch.optim as optim\n",
    "from torch.utils.data import DataLoader\n",
    "from torchmetrics import F1Score,JaccardIndex\n",
    "from torch_poly_lr_decay import PolynomialLRDecay\n",
    "import matplotlib.pyplot as plt\n",
    "import torchvision.transforms as transforms\n",
    "\n",
    "random.seed(1)\n",
    "\n",
    "# Import TuSimple loader\n",
    "import sys\n",
    "sys.path.insert(0,'../resources/')\n",
    "from tusimple import TuSimple\n",
    "from mask_transformer import MaskTransformer\n",
    "from vit import ViT\n",
    "import utils\n",
    "from linear import DecoderLinear\n",
    "from mlp_decoder import DecoderMLP"
   ]
  },
  {
   "cell_type": "code",
   "execution_count": 2,
   "metadata": {},
   "outputs": [],
   "source": [
    "# ROOT DIRECTORIES\n",
    "root_dir = os.path.dirname(os.getcwd())\n",
    "annotated_dir = os.path.join(root_dir,'datasets/tusimple/train_set/annotations')\n",
    "clips_dir = os.path.join(root_dir,'datasets/tusimple/train_set/')\n",
    "annotated = os.listdir(annotated_dir)\n",
    "\n",
    "# Get path directories for clips and annotations for the TUSimple dataset + ground truth dictionary\n",
    "annotations = list()\n",
    "for gt_file in annotated:\n",
    "    path = os.path.join(annotated_dir,gt_file)\n",
    "    json_gt = [json.loads(line) for line in open(path)]\n",
    "    annotations.append(json_gt)\n",
    "    \n",
    "annotations = [a for f in annotations for a in f]"
   ]
  },
  {
   "cell_type": "code",
   "execution_count": 3,
   "metadata": {},
   "outputs": [],
   "source": [
    "dataset = TuSimple(train_annotations = annotations, train_img_dir = clips_dir, resize_to = (640,640), subset_size = 0.1, val_size= 0.2)\n",
    "\n",
    "# Create train and validation splits / Always use del dataset to free memory after this\n",
    "train_set, validation_set = dataset.train_val_split()\n",
    "del dataset\n",
    "\n"
   ]
  },
  {
   "cell_type": "code",
   "execution_count": 48,
   "metadata": {},
   "outputs": [],
   "source": [
    "# Create dataloaders and train the model\n",
    "train_loader = DataLoader(train_set, batch_size = 3,shuffle= True, drop_last= True) \n",
    "\n",
    "gt_augmentations = transforms.Compose([transforms.RandomRotation(degrees=(10, 30)),\n",
    "                                              transforms.RandomHorizontalFlip()])\n",
    "  \n",
    "train_augmentations = transforms.Compose([transforms.Normalize(mean=[0.485, 0.456, 0.406],\n",
    "                                           std=[0.229, 0.224, 0.225]),\n",
    "                                          transforms.GaussianBlur(kernel_size=5, sigma=(0.1, 2.0)),\n",
    "                                        transforms.ColorJitter(brightness=0.25, contrast=0.1, saturation=0.4, hue=0.1)])\n",
    "# Set a seed for augmentations\n",
    "torch.manual_seed(212) \n",
    "    \n",
    "for batch_idx, (inputs, targets) in enumerate(train_loader):\n",
    "            # Combine the inputs and targets into a single tensor\n",
    "            data = torch.cat((inputs, targets), dim=1)\n",
    "    \n",
    "            \n",
    "            # Apply the same augmentations to the combined tensor\n",
    "            augmented_data = gt_augmentations(data)    \n",
    "    \n",
    "            # Split the augmented data back into individual inputs and targets\n",
    "            inputs = augmented_data[:, :inputs.size(1)]\n",
    "            targets = augmented_data[:, inputs.size(1):]\n",
    "            \n",
    "            inputs = train_augmentations(inputs)\n",
    "            \n",
    "            for i in range(0,len(inputs)):\n",
    "                utils.plot_img_pred(inputs[i], targets[i])\n",
    "            break"
   ]
  },
  {
   "cell_type": "code",
   "execution_count": 6,
   "metadata": {},
   "outputs": [
    {
     "name": "stdout",
     "output_type": "stream",
     "text": [
      "tensor(38, dtype=torch.int32)\n"
     ]
    }
   ],
   "source": [
    "# Lane weight\n",
    "pos_weight = utils.calculate_class_weight(train_set)\n",
    "print(pos_weight)"
   ]
  },
  {
   "cell_type": "code",
   "execution_count": 35,
   "metadata": {},
   "outputs": [],
   "source": [
    "# Custom training function for the transformer pipeline with schedule and augmentations\n",
    "def train(model, train_loader, val_loader = None, num_epochs=10, lr=0.01, weight_decay=0, lr_scheduler=True, lane_weight = None):\n",
    "    # Set up loss function and optimizer\n",
    "    criterion =  nn.BCEWithLogitsLoss(pos_weight= lane_weight)\n",
    "    optimizer = optim.SGD(model.parameters(), lr=lr, momentum=0.9, weight_decay=weight_decay)\n",
    "\n",
    "    # Set up learning rate scheduler\n",
    "    if lr_scheduler:\n",
    "        scheduler = PolynomialLRDecay(optimizer, max_decay_steps=100, end_learning_rate=0.0001, power=0.9)\n",
    "\n",
    "    # Set up device (GPU or CPU)\n",
    "    device = torch.device('cuda' if torch.cuda.is_available() else 'cpu')\n",
    "    model = model.to(device)\n",
    "    \n",
    "    f1_score = F1Score(task=\"binary\").to(device)\n",
    "    iou_score = JaccardIndex(task= 'binary').to(device)\n",
    "    \n",
    "    train_augmentations = transforms.Compose([transforms.RandomRotation(degrees=(10, 30)),\n",
    "                                              transforms.RandomHorizontalFlip()])\n",
    "    \n",
    "    # Set a seed for augmentations\n",
    "    torch.manual_seed(42) \n",
    "    \n",
    "    # Train the model\n",
    "    for epoch in range(num_epochs):\n",
    "        train_loss = 0\n",
    "        train_iou = 0\n",
    "        train_f1 = 0\n",
    "        \n",
    "        val_iou = 0\n",
    "        val_f1 = 0\n",
    "        \n",
    "        for batch_idx, (inputs, targets) in enumerate(train_loader):\n",
    "            model.train()\n",
    "            # inputs, targets = inputs.to(device), targets.to(device)\n",
    "            \n",
    "            # Combine the inputs and targets into a single tensor\n",
    "            data = torch.cat((inputs, targets), dim=1)\n",
    "    \n",
    "            \n",
    "            # Apply the same augmentations to the combined tensor\n",
    "            augmented_data = train_augmentations(data)    \n",
    "    \n",
    "            # Split the augmented data back into individual inputs and targets\n",
    "            inputs = augmented_data[:, :inputs.size(1)].to(device)\n",
    "            targets = augmented_data[:, inputs.size(1):].to(device)\n",
    "      \n",
    "            optimizer.zero_grad()\n",
    "            outputs, eval_out = model(inputs)\n",
    "\n",
    "            loss = criterion(outputs.to(device), targets)\n",
    "            loss.backward()\n",
    "            optimizer.step()\n",
    "            \n",
    "            train_loss += loss.item() * inputs.size(0)\n",
    "            train_iou += iou_score(eval_out.to(device).detach(), targets)\n",
    "            train_f1 += f1_score(eval_out.to(device).detach(),targets)\n",
    "        \n",
    "        if val_loader:\n",
    "            model.eval()\n",
    "            with torch.no_grad():\n",
    "                for batch_idx, (inputs, targets) in enumerate(val_loader): \n",
    "                \n",
    "                    inputs, targets = inputs.to(device), targets.to(device)\n",
    "                    outputs = model(inputs)\n",
    "                \n",
    "                    val_iou += iou_score(outputs.to(device), targets)\n",
    "                    val_f1 += f1_score(outputs.to(device),targets)\n",
    "        \n",
    "                val_iou /= len(val_loader)\n",
    "                val_f1 /= len(val_loader)\n",
    "            \n",
    "        train_loss /= len(train_loader)\n",
    "        train_iou /= len(train_loader)\n",
    "        train_f1 /= len(train_loader)\n",
    "        \n",
    "        \n",
    "        \n",
    "     # Print progress\n",
    "        if lr_scheduler:\n",
    "            print('Epoch: {} - Train Loss: {:.4f} - Learning Rate: {:.6f} - Train_IoU: {:.5f} - Train_F1: {:.5f}'.format(epoch+1, train_loss,optimizer.param_groups[0]['lr'], train_iou, train_f1))\n",
    "            scheduler.step()\n",
    "            if val_loader:\n",
    "                print('Val_F1: {:.5f}  - Val_IoU: {:.5f} '.format(val_f1,val_iou))\n",
    "        else:\n",
    "            print('Epoch: {} - Train Loss: {:.4f} - Train_IoU: {:.5f} - Train_F1: {:.5f}'.format(epoch+1, train_loss, train_iou, train_f1))"
   ]
  },
  {
   "cell_type": "code",
   "execution_count": 36,
   "metadata": {},
   "outputs": [],
   "source": [
    "# Segmenter pipeline class (ViT + Masks predictor end-to-end)\n",
    "class Segmenter(nn.Module):\n",
    "    def __init__(self,encoder, decoder, image_size = (640,640), output_act = 'sigmoid', find_threshold = False):\n",
    "        super().__init__()\n",
    "        self.patch_size = encoder.patch_size\n",
    "        self.encoder = encoder\n",
    "        self.decoder = decoder\n",
    "        self.image_size = image_size\n",
    "        self.lane_threshold = 0.5\n",
    "        self.roc_flag = find_threshold\n",
    "        if output_act == 'sigmoid':\n",
    "            self.activation = nn.Sigmoid()   \n",
    "        elif output_act == 'relu':\n",
    "            self.activation = nn.ReLU()\n",
    "        \n",
    "        \n",
    "    # Forward pass of the pipeline\n",
    "    def forward(self, im):\n",
    "        H, W = self.image_size\n",
    "        \n",
    "        # Pass through the pre-trained vit backbone\n",
    "        x = self.encoder(im, return_features=True)\n",
    "        \n",
    "        # Pass through the masks transformer\n",
    "        masks = self.decoder(x)\n",
    "        \n",
    "\n",
    "        # Interpolate patch level class annotatations to pixel level and transform to original image size\n",
    "        masks = F.interpolate(masks, size=(H, W), mode=\"bilinear\")\n",
    "        \n",
    "        # Training time\n",
    "        if self.training:\n",
    "            class_prob_masks = self.activation(masks)\n",
    "            predictions = torch.where(class_prob_masks > self.lane_threshold, torch.ones_like(class_prob_masks), torch.zeros_like(class_prob_masks))\n",
    "            return masks, predictions\n",
    "        \n",
    "        elif self.roc_flag and not self.training:\n",
    "            class_prob_masks = self.activation(masks)\n",
    "            return class_prob_masks\n",
    "        else:\n",
    "            class_prob_masks = self.activation(masks)\n",
    "            predictions = torch.where(class_prob_masks > self.lane_threshold, torch.ones_like(class_prob_masks), torch.zeros_like(class_prob_masks))\n",
    "            return predictions\n",
    "        \n",
    "    # Count pipeline trainable parameters\n",
    "    def count_parameters(self):\n",
    "        return sum(p.numel() for p in self.parameters() if p.requires_grad)\n",
    "    \n",
    "    # Load trained model\n",
    "    def load_segmenter(self,path): \n",
    "        self.load_state_dict(torch.load(path,map_location=torch.device('cpu')))\n",
    "            \n"
   ]
  },
  {
   "cell_type": "code",
   "execution_count": 14,
   "metadata": {},
   "outputs": [],
   "source": [
    "# Create dataloaders and train the model\n",
    "train_loader = DataLoader(train_set, batch_size= 2,shuffle= True, drop_last= True) \n",
    "validation_loader = DataLoader(validation_set,batch_size= 1, shuffle= True, drop_last= True) "
   ]
  },
  {
   "cell_type": "code",
   "execution_count": 16,
   "metadata": {},
   "outputs": [
    {
     "name": "stdout",
     "output_type": "stream",
     "text": [
      "Succesfully created ViT with pre-trained weights...!\n",
      "Number of trainable parameters : 769\n"
     ]
    }
   ],
   "source": [
    "# Create Segmenter model\n",
    "encoder = ViT(image_size=640, patch_size=16, num_classes=1, dim=768, depth=12, heads=12, \n",
    "            mlp_dim=3072, dropout=0.1,load_pre= True, pre_trained_path= '../pre-trained/jx_vit_base_p16_224-80ecf9dd.pth')\n",
    "encoder.freeze_all_but_some([])\n",
    "# decoder = MaskTransformer(n_classes= 1)\n",
    "# decoder = DecoderMLP(n_classes = 1, d_encoder = 768)\n",
    "decoder = DecoderLinear(n_classes = 1, d_encoder = 768)\n",
    "model = Segmenter(encoder, decoder, find_threshold= False, output_act= 'sigmoid')\n",
    "print(f'Number of trainable parameters : {model.count_parameters()}')\n",
    "\n",
    "# model.load_segmenter('../models/segmenter.pth')"
   ]
  },
  {
   "cell_type": "code",
   "execution_count": 17,
   "metadata": {},
   "outputs": [
    {
     "name": "stdout",
     "output_type": "stream",
     "text": [
      "tensor([0.0000e+00, 3.5715e-04, 5.8281e-04, 1.3763e-03, 1.6632e-03, 1.7548e-03,\n",
      "        2.0233e-03, 2.0599e-03, 2.0905e-03, 2.3286e-03, 2.3893e-03, 2.3955e-03,\n",
      "        2.4079e-03, 2.5482e-03, 2.6597e-03, 2.7374e-03, 3.0487e-03, 3.5309e-03,\n",
      "        3.7568e-03, 3.9062e-03, 4.5013e-03, 5.0801e-03, 5.1727e-03, 5.8318e-03,\n",
      "        6.5092e-03, 7.2423e-03, 7.4615e-03, 7.5531e-03, 7.6007e-03, 7.6510e-03,\n",
      "        8.2966e-03, 8.5140e-03, 8.6513e-03, 8.7637e-03, 8.7738e-03, 8.8959e-03,\n",
      "        8.9264e-03, 9.1542e-03, 9.2439e-03, 9.2926e-03, 9.4329e-03, 9.9335e-03,\n",
      "        9.9517e-03, 1.0162e-02, 1.0357e-02, 1.0574e-02, 1.0642e-02, 1.1719e-02,\n",
      "        1.1948e-02, 1.1978e-02, 1.2088e-02, 1.2126e-02, 1.2139e-02, 1.2607e-02,\n",
      "        1.2655e-02, 1.3863e-02, 1.5903e-02, 1.6293e-02, 1.6388e-02, 1.6556e-02,\n",
      "        1.6902e-02, 1.8056e-02, 1.8173e-02, 1.8194e-02, 1.8295e-02, 1.8321e-02,\n",
      "        1.8400e-02, 1.8698e-02, 1.9038e-02, 1.9531e-02, 2.0352e-02, 2.0986e-02,\n",
      "        2.1118e-02, 2.1121e-02, 2.1504e-02, 2.1554e-02, 2.1671e-02, 2.1859e-02,\n",
      "        2.2400e-02, 2.3137e-02, 2.3796e-02, 2.4015e-02, 2.5742e-02, 2.5787e-02,\n",
      "        2.6078e-02, 2.6553e-02, 2.6614e-02, 2.7344e-02, 2.7438e-02, 2.7444e-02,\n",
      "        2.8008e-02, 2.8900e-02, 2.8948e-02, 2.9999e-02, 3.0350e-02, 3.1030e-02,\n",
      "        3.1357e-02, 3.1815e-02, 3.1820e-02, 3.1980e-02, 3.2036e-02, 3.2267e-02,\n",
      "        3.2296e-02, 3.2493e-02, 3.2595e-02, 3.2883e-02, 3.2919e-02, 3.3127e-02,\n",
      "        3.3152e-02, 3.3320e-02, 3.5156e-02, 3.5355e-02, 3.5818e-02, 3.6713e-02,\n",
      "        3.7107e-02, 3.7430e-02, 3.9800e-02, 3.9844e-02, 3.9914e-02, 4.1730e-02,\n",
      "        4.1884e-02, 4.2491e-02, 4.2969e-02, 4.3273e-02, 4.3320e-02, 4.3934e-02,\n",
      "        4.4235e-02, 4.4671e-02, 4.5598e-02, 4.5822e-02, 4.5864e-02, 4.6042e-02,\n",
      "        4.7653e-02, 4.7874e-02, 4.9283e-02, 4.9436e-02, 5.0781e-02, 5.0987e-02,\n",
      "        5.2128e-02, 5.2300e-02, 5.2360e-02, 5.2487e-02, 5.3455e-02, 5.3909e-02,\n",
      "        5.5008e-02, 5.5818e-02, 5.6301e-02, 5.6756e-02, 5.7144e-02, 5.7846e-02,\n",
      "        5.7907e-02, 5.7963e-02, 5.8063e-02, 5.8365e-02, 5.8517e-02, 5.8583e-02,\n",
      "        5.8594e-02, 5.8676e-02, 5.8936e-02, 5.9121e-02, 5.9733e-02, 6.0150e-02,\n",
      "        6.0623e-02, 6.0814e-02, 6.0933e-02, 6.1333e-02, 6.1587e-02, 6.1788e-02,\n",
      "        6.1868e-02, 6.1932e-02, 6.2405e-02, 6.2485e-02, 6.2734e-02, 6.3293e-02,\n",
      "        6.4019e-02, 6.4633e-02, 6.5007e-02, 6.5231e-02, 6.5506e-02, 6.5939e-02,\n",
      "        6.6406e-02, 6.6971e-02, 6.7963e-02, 6.7970e-02, 6.9273e-02, 6.9519e-02,\n",
      "        6.9565e-02, 7.0821e-02, 7.1628e-02, 7.2721e-02, 7.3216e-02, 7.3220e-02,\n",
      "        7.4219e-02, 7.5400e-02, 7.5779e-02, 7.5783e-02, 7.8341e-02, 7.9041e-02,\n",
      "        7.9147e-02, 7.9385e-02, 8.1488e-02, 8.1643e-02, 8.2031e-02, 8.2800e-02,\n",
      "        8.3618e-02, 8.3633e-02, 8.4023e-02, 8.4161e-02, 8.4763e-02, 8.5159e-02,\n",
      "        8.5277e-02, 8.5765e-02, 8.6480e-02, 8.6839e-02, 8.7204e-02, 8.7834e-02,\n",
      "        8.8089e-02, 8.8216e-02, 8.8287e-02, 8.8894e-02, 8.8971e-02, 8.9401e-02,\n",
      "        8.9565e-02, 8.9844e-02, 9.0867e-02, 9.1431e-02, 9.2087e-02, 9.2750e-02,\n",
      "        9.2858e-02, 9.4246e-02, 9.4380e-02, 9.4513e-02, 9.5989e-02, 9.6100e-02,\n",
      "        9.7656e-02, 9.7917e-02, 9.8552e-02, 9.9570e-02, 1.0239e-01, 1.0269e-01,\n",
      "        1.0294e-01, 1.0391e-01, 1.0462e-01, 1.0547e-01, 1.0773e-01, 1.0861e-01,\n",
      "        1.0895e-01, 1.1016e-01, 1.1114e-01, 1.1132e-01, 1.1164e-01, 1.1232e-01,\n",
      "        1.1325e-01, 1.1328e-01, 1.1504e-01, 1.1642e-01, 1.1660e-01, 1.2025e-01,\n",
      "        1.2109e-01, 1.2265e-01, 1.2318e-01, 1.2363e-01, 1.2388e-01, 1.2407e-01,\n",
      "        1.2428e-01, 1.2453e-01, 1.2478e-01, 1.2561e-01, 1.2578e-01, 1.2579e-01,\n",
      "        1.2657e-01, 1.2837e-01, 1.2978e-01, 1.2995e-01, 1.3013e-01, 1.3081e-01,\n",
      "        1.3115e-01, 1.3170e-01, 1.3501e-01, 1.3554e-01, 1.3581e-01, 1.3672e-01,\n",
      "        1.3695e-01, 1.3980e-01, 1.3985e-01, 1.4005e-01, 1.4109e-01, 1.4142e-01,\n",
      "        1.4219e-01, 1.4224e-01, 1.4297e-01, 1.4317e-01, 1.4333e-01, 1.4396e-01,\n",
      "        1.4452e-01, 1.4622e-01, 1.4626e-01, 1.4676e-01, 1.4687e-01, 1.4766e-01,\n",
      "        1.4801e-01, 1.4920e-01, 1.5234e-01, 1.5252e-01, 1.5288e-01, 1.5450e-01,\n",
      "        1.5475e-01, 1.5519e-01, 1.5656e-01, 1.5701e-01, 1.5922e-01, 1.5997e-01,\n",
      "        1.6008e-01, 1.6016e-01, 1.6063e-01, 1.6090e-01, 1.6109e-01, 1.6171e-01,\n",
      "        1.6367e-01, 1.6367e-01, 1.6543e-01, 1.6583e-01, 1.6641e-01, 1.6797e-01,\n",
      "        1.6825e-01, 1.7065e-01, 1.7108e-01, 1.7171e-01, 1.7225e-01, 1.7308e-01,\n",
      "        1.7317e-01, 1.7343e-01, 1.7422e-01, 1.7578e-01, 1.7665e-01, 1.7872e-01,\n",
      "        1.8196e-01, 1.8203e-01, 1.8293e-01, 1.8359e-01, 1.8689e-01, 1.8710e-01,\n",
      "        1.8821e-01, 1.8936e-01, 1.8996e-01, 1.9141e-01, 1.9277e-01, 1.9609e-01,\n",
      "        1.9727e-01, 1.9765e-01, 1.9831e-01, 1.9897e-01, 1.9922e-01, 1.9932e-01,\n",
      "        1.9938e-01, 1.9986e-01, 2.0117e-01, 2.0313e-01, 2.0389e-01, 2.0547e-01,\n",
      "        2.0607e-01, 2.0644e-01, 2.0692e-01, 2.0703e-01, 2.0888e-01, 2.1087e-01,\n",
      "        2.1135e-01, 2.1170e-01, 2.1173e-01, 2.1236e-01, 2.1373e-01, 2.1457e-01,\n",
      "        2.1484e-01, 2.1744e-01, 2.1797e-01, 2.1821e-01, 2.1953e-01, 2.2111e-01,\n",
      "        2.2266e-01, 2.2284e-01, 2.2885e-01, 2.3003e-01, 2.3047e-01, 2.3569e-01,\n",
      "        2.3735e-01, 2.3828e-01, 2.3855e-01, 2.3925e-01, 2.3984e-01, 2.4039e-01,\n",
      "        2.4260e-01, 2.4271e-01, 2.4356e-01, 2.4430e-01, 2.4529e-01, 2.4609e-01,\n",
      "        2.4879e-01, 2.4979e-01, 2.5063e-01, 2.5182e-01, 2.5225e-01, 2.5239e-01,\n",
      "        2.5304e-01, 2.5391e-01, 2.5395e-01, 2.5517e-01, 2.5584e-01, 2.5743e-01,\n",
      "        2.5758e-01, 2.6015e-01, 2.6145e-01, 2.6172e-01, 2.6176e-01, 2.6208e-01,\n",
      "        2.6328e-01, 2.6387e-01, 2.6486e-01, 2.6587e-01, 2.6592e-01, 2.6617e-01,\n",
      "        2.6727e-01, 2.6894e-01, 2.6933e-01, 2.6953e-01, 2.7209e-01, 2.7235e-01,\n",
      "        2.7259e-01, 2.7479e-01, 2.7562e-01, 2.7577e-01, 2.7609e-01, 2.7671e-01,\n",
      "        2.7715e-01, 2.7734e-01, 2.7776e-01, 2.7806e-01, 2.7980e-01, 2.8046e-01,\n",
      "        2.8047e-01, 2.8148e-01, 2.8203e-01, 2.8358e-01, 2.8372e-01, 2.8516e-01,\n",
      "        2.8702e-01, 2.9035e-01, 2.9071e-01, 2.9130e-01, 2.9282e-01, 2.9297e-01,\n",
      "        2.9357e-01, 2.9453e-01, 2.9521e-01, 2.9545e-01, 2.9550e-01, 2.9631e-01,\n",
      "        3.0078e-01, 3.0548e-01, 3.0836e-01, 3.0859e-01, 3.1015e-01, 3.1077e-01,\n",
      "        3.1172e-01, 3.1174e-01, 3.1187e-01, 3.1323e-01, 3.1353e-01, 3.1394e-01,\n",
      "        3.1451e-01, 3.1641e-01, 3.1706e-01, 3.1792e-01, 3.2422e-01, 3.2487e-01,\n",
      "        3.2558e-01, 3.2687e-01, 3.2892e-01, 3.2947e-01, 3.3051e-01, 3.3183e-01,\n",
      "        3.3203e-01, 3.3265e-01, 3.3456e-01, 3.3752e-01, 3.3788e-01, 3.3829e-01,\n",
      "        3.3920e-01, 3.3922e-01, 3.3958e-01, 3.3984e-01, 3.3995e-01, 3.4296e-01,\n",
      "        3.4610e-01, 3.4766e-01, 3.4808e-01, 3.4895e-01, 3.4920e-01, 3.4925e-01,\n",
      "        3.5196e-01, 3.5233e-01, 3.5234e-01, 3.5538e-01, 3.5547e-01, 3.5860e-01,\n",
      "        3.5979e-01, 3.6002e-01, 3.6014e-01, 3.6328e-01, 3.6348e-01, 3.6484e-01,\n",
      "        3.6639e-01, 3.6796e-01, 3.6798e-01, 3.7109e-01, 3.7193e-01, 3.7349e-01,\n",
      "        3.7422e-01, 3.7727e-01, 3.7732e-01, 3.7891e-01, 3.8046e-01, 3.8205e-01,\n",
      "        3.8351e-01, 3.8672e-01, 3.8708e-01, 3.9142e-01, 3.9171e-01, 3.9248e-01,\n",
      "        3.9348e-01, 3.9413e-01, 3.9428e-01, 3.9453e-01, 3.9609e-01, 3.9730e-01,\n",
      "        4.0077e-01, 4.0079e-01, 4.0376e-01, 4.0704e-01, 4.1016e-01, 4.1181e-01,\n",
      "        4.1198e-01, 4.1327e-01, 4.1484e-01, 4.1495e-01, 4.1613e-01, 4.1641e-01,\n",
      "        4.1668e-01, 4.1797e-01, 4.2079e-01, 4.2450e-01, 4.2453e-01, 4.2555e-01,\n",
      "        4.2559e-01, 4.2578e-01, 4.2855e-01, 4.3026e-01, 4.3047e-01, 4.3204e-01,\n",
      "        4.3359e-01, 4.3486e-01, 4.3515e-01, 4.3632e-01, 4.3657e-01, 4.3671e-01,\n",
      "        4.4141e-01, 4.4371e-01, 4.4450e-01, 4.4487e-01, 4.4516e-01, 4.4559e-01,\n",
      "        4.4765e-01, 4.4918e-01, 4.4922e-01, 4.5058e-01, 4.5078e-01, 4.5235e-01,\n",
      "        4.5574e-01, 4.5604e-01, 4.5703e-01, 4.6005e-01, 4.6071e-01, 4.6343e-01,\n",
      "        4.6484e-01, 4.6640e-01, 4.6641e-01, 4.7079e-01, 4.7115e-01, 4.7244e-01,\n",
      "        4.7255e-01, 4.7266e-01, 4.7302e-01, 4.7577e-01, 4.7588e-01, 4.8003e-01,\n",
      "        4.8047e-01, 4.8404e-01, 4.8496e-01, 4.8674e-01, 4.8766e-01, 4.8828e-01,\n",
      "        4.8888e-01, 4.9275e-01, 4.9355e-01, 4.9515e-01, 4.9609e-01, 4.9718e-01,\n",
      "        4.9765e-01, 4.9976e-01, 5.0117e-01, 5.0235e-01, 5.0264e-01, 5.0391e-01,\n",
      "        5.0854e-01, 5.0859e-01, 5.1186e-01, 5.1328e-01, 5.1331e-01, 5.1425e-01,\n",
      "        5.1486e-01, 5.1634e-01, 5.1797e-01, 5.1953e-01, 5.2110e-01, 5.2113e-01,\n",
      "        5.2422e-01, 5.2557e-01, 5.2734e-01, 5.2892e-01, 5.2998e-01, 5.3203e-01,\n",
      "        5.3334e-01, 5.3358e-01, 5.3402e-01, 5.3516e-01, 5.3827e-01, 5.3974e-01,\n",
      "        5.3986e-01, 5.4026e-01, 5.4453e-01, 5.5005e-01, 5.5078e-01, 5.5181e-01,\n",
      "        5.5292e-01, 5.5545e-01, 5.5704e-01, 5.5859e-01, 5.6010e-01, 5.6231e-01,\n",
      "        5.6485e-01, 5.6618e-01, 5.6626e-01, 5.7110e-01, 5.7266e-01, 5.7304e-01,\n",
      "        5.7305e-01, 5.7422e-01, 5.7736e-01, 5.7879e-01, 5.8047e-01, 5.8203e-01,\n",
      "        5.8418e-01, 5.8672e-01, 5.8673e-01, 5.8693e-01, 5.8721e-01, 5.8763e-01,\n",
      "        5.8788e-01, 5.8910e-01, 5.8984e-01, 5.9590e-01, 5.9795e-01, 5.9844e-01,\n",
      "        5.9975e-01, 6.0015e-01, 6.0078e-01, 6.0198e-01, 6.0200e-01, 6.0233e-01,\n",
      "        6.0451e-01, 6.0547e-01, 6.0799e-01, 6.1005e-01, 6.1328e-01, 6.1484e-01,\n",
      "        6.1641e-01, 6.1749e-01, 6.1795e-01, 6.2031e-01, 6.2109e-01, 6.2251e-01,\n",
      "        6.2266e-01, 6.2728e-01, 6.2891e-01, 6.3234e-01, 6.3516e-01, 6.3574e-01,\n",
      "        6.3672e-01, 6.3740e-01, 6.3756e-01, 6.3828e-01, 6.3986e-01, 6.4174e-01,\n",
      "        6.4453e-01, 6.4556e-01, 6.4609e-01, 6.5234e-01, 6.5298e-01, 6.5457e-01,\n",
      "        6.5704e-01, 6.5859e-01, 6.6016e-01, 6.6171e-01, 6.6336e-01, 6.6676e-01,\n",
      "        6.6797e-01, 6.7108e-01, 6.7168e-01, 6.7267e-01, 6.7307e-01, 6.7480e-01,\n",
      "        6.7578e-01, 6.7614e-01, 6.7805e-01, 6.7891e-01, 6.8264e-01, 6.8359e-01,\n",
      "        6.8518e-01, 6.8550e-01, 6.8671e-01, 6.8828e-01, 6.9141e-01, 6.9296e-01,\n",
      "        6.9922e-01, 7.0078e-01, 7.0513e-01, 7.0703e-01, 7.1017e-01, 7.1484e-01,\n",
      "        7.1754e-01, 7.2266e-01, 7.2421e-01, 7.3047e-01, 7.3671e-01, 7.3772e-01,\n",
      "        7.3828e-01, 7.4139e-01, 7.4141e-01, 7.4160e-01, 7.4295e-01, 7.4609e-01,\n",
      "        7.4768e-01, 7.5391e-01, 7.5710e-01, 7.5858e-01, 7.6172e-01, 7.6753e-01,\n",
      "        7.6953e-01, 7.7129e-01, 7.7265e-01, 7.7267e-01, 7.7576e-01, 7.7734e-01,\n",
      "        7.7903e-01, 7.7934e-01, 7.8516e-01, 7.8827e-01, 7.8986e-01, 7.9210e-01,\n",
      "        7.9297e-01, 8.0078e-01, 8.0303e-01, 8.0704e-01, 8.0859e-01, 8.1203e-01,\n",
      "        8.1328e-01, 8.1641e-01, 8.2266e-01, 8.2422e-01, 8.2448e-01, 8.2599e-01,\n",
      "        8.2838e-01, 8.3047e-01, 8.3359e-01, 8.3515e-01, 8.3829e-01, 8.3984e-01,\n",
      "        8.4140e-01, 8.4171e-01, 8.4403e-01, 8.4766e-01, 8.4921e-01, 8.5547e-01,\n",
      "        8.6952e-01, 8.7109e-01, 8.7212e-01, 8.7733e-01, 8.7735e-01, 8.7891e-01,\n",
      "        8.8202e-01, 8.8672e-01, 8.8895e-01, 8.9140e-01, 8.9453e-01, 8.9609e-01,\n",
      "        9.0234e-01, 9.0390e-01, 9.0546e-01, 9.0684e-01, 9.1016e-01, 9.1171e-01,\n",
      "        9.1231e-01, 9.1328e-01, 9.1797e-01, 9.1843e-01, 9.1881e-01, 9.2578e-01,\n",
      "        9.2734e-01, 9.2735e-01, 9.2792e-01, 9.3037e-01, 9.3048e-01, 9.3671e-01,\n",
      "        9.4141e-01, 9.4297e-01, 9.4452e-01, 9.4922e-01, 9.5279e-01, 9.5703e-01,\n",
      "        9.5859e-01, 9.6173e-01, 9.6329e-01, 9.6330e-01, 9.6484e-01, 9.6796e-01,\n",
      "        9.6954e-01, 9.7266e-01, 9.7734e-01, 9.8047e-01, 9.8361e-01, 9.8410e-01,\n",
      "        9.8515e-01, 9.8517e-01, 9.8828e-01, 9.8984e-01, 9.9298e-01, 9.9457e-01,\n",
      "        9.9609e-01, 9.9629e-01, 9.9702e-01, 9.9924e-01, 1.0000e+00])\n"
     ]
    },
    {
     "ename": "KeyboardInterrupt",
     "evalue": "",
     "output_type": "error",
     "traceback": [
      "\u001b[0;31m---------------------------------------------------------------------------\u001b[0m",
      "\u001b[0;31mKeyboardInterrupt\u001b[0m                         Traceback (most recent call last)",
      "\u001b[1;32m/home/dimitris/Downloads/Lane-detection-Master-Thesis/notebooks/segmenter.ipynb Cell 11\u001b[0m in \u001b[0;36m<cell line: 2>\u001b[0;34m()\u001b[0m\n\u001b[1;32m      <a href='vscode-notebook-cell:/home/dimitris/Downloads/Lane-detection-Master-Thesis/notebooks/segmenter.ipynb#X13sZmlsZQ%3D%3D?line=0'>1</a>\u001b[0m \u001b[39m# Train the model\u001b[39;00m\n\u001b[0;32m----> <a href='vscode-notebook-cell:/home/dimitris/Downloads/Lane-detection-Master-Thesis/notebooks/segmenter.ipynb#X13sZmlsZQ%3D%3D?line=1'>2</a>\u001b[0m train(model, train_loader,val_loader\u001b[39m=\u001b[39;49m \u001b[39mNone\u001b[39;49;00m , num_epochs\u001b[39m=\u001b[39;49m \u001b[39m1\u001b[39;49m, \n\u001b[1;32m      <a href='vscode-notebook-cell:/home/dimitris/Downloads/Lane-detection-Master-Thesis/notebooks/segmenter.ipynb#X13sZmlsZQ%3D%3D?line=2'>3</a>\u001b[0m       lane_weight \u001b[39m=\u001b[39;49m pos_weight, lr_scheduler\u001b[39m=\u001b[39;49m \u001b[39mFalse\u001b[39;49;00m, lr \u001b[39m=\u001b[39;49m \u001b[39m0.001\u001b[39;49m)\n",
      "\u001b[1;32m/home/dimitris/Downloads/Lane-detection-Master-Thesis/notebooks/segmenter.ipynb Cell 11\u001b[0m in \u001b[0;36mtrain\u001b[0;34m(model, train_loader, val_loader, num_epochs, lr, weight_decay, lr_scheduler, lane_weight)\u001b[0m\n\u001b[1;32m     <a href='vscode-notebook-cell:/home/dimitris/Downloads/Lane-detection-Master-Thesis/notebooks/segmenter.ipynb#X13sZmlsZQ%3D%3D?line=47'>48</a>\u001b[0m \u001b[39mprint\u001b[39m(targets[\u001b[39m0\u001b[39m]\u001b[39m.\u001b[39munique())       \n\u001b[1;32m     <a href='vscode-notebook-cell:/home/dimitris/Downloads/Lane-detection-Master-Thesis/notebooks/segmenter.ipynb#X13sZmlsZQ%3D%3D?line=48'>49</a>\u001b[0m optimizer\u001b[39m.\u001b[39mzero_grad()\n\u001b[0;32m---> <a href='vscode-notebook-cell:/home/dimitris/Downloads/Lane-detection-Master-Thesis/notebooks/segmenter.ipynb#X13sZmlsZQ%3D%3D?line=49'>50</a>\u001b[0m outputs, eval_out \u001b[39m=\u001b[39m model(inputs)\n\u001b[1;32m     <a href='vscode-notebook-cell:/home/dimitris/Downloads/Lane-detection-Master-Thesis/notebooks/segmenter.ipynb#X13sZmlsZQ%3D%3D?line=51'>52</a>\u001b[0m loss \u001b[39m=\u001b[39m criterion(outputs\u001b[39m.\u001b[39mto(device), targets)\n\u001b[1;32m     <a href='vscode-notebook-cell:/home/dimitris/Downloads/Lane-detection-Master-Thesis/notebooks/segmenter.ipynb#X13sZmlsZQ%3D%3D?line=52'>53</a>\u001b[0m loss\u001b[39m.\u001b[39mbackward()\n",
      "File \u001b[0;32m~/anaconda3/envs/py10/lib/python3.10/site-packages/torch/nn/modules/module.py:1130\u001b[0m, in \u001b[0;36mModule._call_impl\u001b[0;34m(self, *input, **kwargs)\u001b[0m\n\u001b[1;32m   1126\u001b[0m \u001b[39m# If we don't have any hooks, we want to skip the rest of the logic in\u001b[39;00m\n\u001b[1;32m   1127\u001b[0m \u001b[39m# this function, and just call forward.\u001b[39;00m\n\u001b[1;32m   1128\u001b[0m \u001b[39mif\u001b[39;00m \u001b[39mnot\u001b[39;00m (\u001b[39mself\u001b[39m\u001b[39m.\u001b[39m_backward_hooks \u001b[39mor\u001b[39;00m \u001b[39mself\u001b[39m\u001b[39m.\u001b[39m_forward_hooks \u001b[39mor\u001b[39;00m \u001b[39mself\u001b[39m\u001b[39m.\u001b[39m_forward_pre_hooks \u001b[39mor\u001b[39;00m _global_backward_hooks\n\u001b[1;32m   1129\u001b[0m         \u001b[39mor\u001b[39;00m _global_forward_hooks \u001b[39mor\u001b[39;00m _global_forward_pre_hooks):\n\u001b[0;32m-> 1130\u001b[0m     \u001b[39mreturn\u001b[39;00m forward_call(\u001b[39m*\u001b[39;49m\u001b[39minput\u001b[39;49m, \u001b[39m*\u001b[39;49m\u001b[39m*\u001b[39;49mkwargs)\n\u001b[1;32m   1131\u001b[0m \u001b[39m# Do not call functions when jit is used\u001b[39;00m\n\u001b[1;32m   1132\u001b[0m full_backward_hooks, non_full_backward_hooks \u001b[39m=\u001b[39m [], []\n",
      "\u001b[1;32m/home/dimitris/Downloads/Lane-detection-Master-Thesis/notebooks/segmenter.ipynb Cell 11\u001b[0m in \u001b[0;36mSegmenter.forward\u001b[0;34m(self, im)\u001b[0m\n\u001b[1;32m     <a href='vscode-notebook-cell:/home/dimitris/Downloads/Lane-detection-Master-Thesis/notebooks/segmenter.ipynb#X13sZmlsZQ%3D%3D?line=18'>19</a>\u001b[0m H, W \u001b[39m=\u001b[39m \u001b[39mself\u001b[39m\u001b[39m.\u001b[39mimage_size\n\u001b[1;32m     <a href='vscode-notebook-cell:/home/dimitris/Downloads/Lane-detection-Master-Thesis/notebooks/segmenter.ipynb#X13sZmlsZQ%3D%3D?line=20'>21</a>\u001b[0m \u001b[39m# Pass through the pre-trained vit backbone\u001b[39;00m\n\u001b[0;32m---> <a href='vscode-notebook-cell:/home/dimitris/Downloads/Lane-detection-Master-Thesis/notebooks/segmenter.ipynb#X13sZmlsZQ%3D%3D?line=21'>22</a>\u001b[0m x \u001b[39m=\u001b[39m \u001b[39mself\u001b[39;49m\u001b[39m.\u001b[39;49mencoder(im, return_features\u001b[39m=\u001b[39;49m\u001b[39mTrue\u001b[39;49;00m)\n\u001b[1;32m     <a href='vscode-notebook-cell:/home/dimitris/Downloads/Lane-detection-Master-Thesis/notebooks/segmenter.ipynb#X13sZmlsZQ%3D%3D?line=23'>24</a>\u001b[0m \u001b[39m# Pass through the masks transformer\u001b[39;00m\n\u001b[1;32m     <a href='vscode-notebook-cell:/home/dimitris/Downloads/Lane-detection-Master-Thesis/notebooks/segmenter.ipynb#X13sZmlsZQ%3D%3D?line=24'>25</a>\u001b[0m masks \u001b[39m=\u001b[39m \u001b[39mself\u001b[39m\u001b[39m.\u001b[39mdecoder(x)\n",
      "File \u001b[0;32m~/anaconda3/envs/py10/lib/python3.10/site-packages/torch/nn/modules/module.py:1130\u001b[0m, in \u001b[0;36mModule._call_impl\u001b[0;34m(self, *input, **kwargs)\u001b[0m\n\u001b[1;32m   1126\u001b[0m \u001b[39m# If we don't have any hooks, we want to skip the rest of the logic in\u001b[39;00m\n\u001b[1;32m   1127\u001b[0m \u001b[39m# this function, and just call forward.\u001b[39;00m\n\u001b[1;32m   1128\u001b[0m \u001b[39mif\u001b[39;00m \u001b[39mnot\u001b[39;00m (\u001b[39mself\u001b[39m\u001b[39m.\u001b[39m_backward_hooks \u001b[39mor\u001b[39;00m \u001b[39mself\u001b[39m\u001b[39m.\u001b[39m_forward_hooks \u001b[39mor\u001b[39;00m \u001b[39mself\u001b[39m\u001b[39m.\u001b[39m_forward_pre_hooks \u001b[39mor\u001b[39;00m _global_backward_hooks\n\u001b[1;32m   1129\u001b[0m         \u001b[39mor\u001b[39;00m _global_forward_hooks \u001b[39mor\u001b[39;00m _global_forward_pre_hooks):\n\u001b[0;32m-> 1130\u001b[0m     \u001b[39mreturn\u001b[39;00m forward_call(\u001b[39m*\u001b[39;49m\u001b[39minput\u001b[39;49m, \u001b[39m*\u001b[39;49m\u001b[39m*\u001b[39;49mkwargs)\n\u001b[1;32m   1131\u001b[0m \u001b[39m# Do not call functions when jit is used\u001b[39;00m\n\u001b[1;32m   1132\u001b[0m full_backward_hooks, non_full_backward_hooks \u001b[39m=\u001b[39m [], []\n",
      "File \u001b[0;32m~/Downloads/Lane-detection-Master-Thesis/notebooks/../resources/vit.py:169\u001b[0m, in \u001b[0;36mViT.forward\u001b[0;34m(self, x, return_features)\u001b[0m\n\u001b[1;32m    166\u001b[0m     x \u001b[39m=\u001b[39m \u001b[39mself\u001b[39m\u001b[39m.\u001b[39mdropout(x)\n\u001b[1;32m    168\u001b[0m \u001b[39m# Apply the transformer layers\u001b[39;00m\n\u001b[0;32m--> 169\u001b[0m x \u001b[39m=\u001b[39m \u001b[39mself\u001b[39;49m\u001b[39m.\u001b[39;49mtransformer(x)\n\u001b[1;32m    171\u001b[0m \u001b[39m# Apply layer normalization before returning the transformed features \u001b[39;00m\n\u001b[1;32m    172\u001b[0m x \u001b[39m=\u001b[39m \u001b[39mself\u001b[39m\u001b[39m.\u001b[39mnorm(x)\n",
      "File \u001b[0;32m~/anaconda3/envs/py10/lib/python3.10/site-packages/torch/nn/modules/module.py:1130\u001b[0m, in \u001b[0;36mModule._call_impl\u001b[0;34m(self, *input, **kwargs)\u001b[0m\n\u001b[1;32m   1126\u001b[0m \u001b[39m# If we don't have any hooks, we want to skip the rest of the logic in\u001b[39;00m\n\u001b[1;32m   1127\u001b[0m \u001b[39m# this function, and just call forward.\u001b[39;00m\n\u001b[1;32m   1128\u001b[0m \u001b[39mif\u001b[39;00m \u001b[39mnot\u001b[39;00m (\u001b[39mself\u001b[39m\u001b[39m.\u001b[39m_backward_hooks \u001b[39mor\u001b[39;00m \u001b[39mself\u001b[39m\u001b[39m.\u001b[39m_forward_hooks \u001b[39mor\u001b[39;00m \u001b[39mself\u001b[39m\u001b[39m.\u001b[39m_forward_pre_hooks \u001b[39mor\u001b[39;00m _global_backward_hooks\n\u001b[1;32m   1129\u001b[0m         \u001b[39mor\u001b[39;00m _global_forward_hooks \u001b[39mor\u001b[39;00m _global_forward_pre_hooks):\n\u001b[0;32m-> 1130\u001b[0m     \u001b[39mreturn\u001b[39;00m forward_call(\u001b[39m*\u001b[39;49m\u001b[39minput\u001b[39;49m, \u001b[39m*\u001b[39;49m\u001b[39m*\u001b[39;49mkwargs)\n\u001b[1;32m   1131\u001b[0m \u001b[39m# Do not call functions when jit is used\u001b[39;00m\n\u001b[1;32m   1132\u001b[0m full_backward_hooks, non_full_backward_hooks \u001b[39m=\u001b[39m [], []\n",
      "File \u001b[0;32m~/anaconda3/envs/py10/lib/python3.10/site-packages/torch/nn/modules/transformer.py:238\u001b[0m, in \u001b[0;36mTransformerEncoder.forward\u001b[0;34m(self, src, mask, src_key_padding_mask)\u001b[0m\n\u001b[1;32m    236\u001b[0m         output \u001b[39m=\u001b[39m mod(output, src_mask\u001b[39m=\u001b[39mmask)\n\u001b[1;32m    237\u001b[0m     \u001b[39melse\u001b[39;00m:\n\u001b[0;32m--> 238\u001b[0m         output \u001b[39m=\u001b[39m mod(output, src_mask\u001b[39m=\u001b[39;49mmask, src_key_padding_mask\u001b[39m=\u001b[39;49msrc_key_padding_mask)\n\u001b[1;32m    240\u001b[0m \u001b[39mif\u001b[39;00m convert_to_nested:\n\u001b[1;32m    241\u001b[0m     output \u001b[39m=\u001b[39m output\u001b[39m.\u001b[39mto_padded_tensor(\u001b[39m0.\u001b[39m)\n",
      "File \u001b[0;32m~/anaconda3/envs/py10/lib/python3.10/site-packages/torch/nn/modules/module.py:1130\u001b[0m, in \u001b[0;36mModule._call_impl\u001b[0;34m(self, *input, **kwargs)\u001b[0m\n\u001b[1;32m   1126\u001b[0m \u001b[39m# If we don't have any hooks, we want to skip the rest of the logic in\u001b[39;00m\n\u001b[1;32m   1127\u001b[0m \u001b[39m# this function, and just call forward.\u001b[39;00m\n\u001b[1;32m   1128\u001b[0m \u001b[39mif\u001b[39;00m \u001b[39mnot\u001b[39;00m (\u001b[39mself\u001b[39m\u001b[39m.\u001b[39m_backward_hooks \u001b[39mor\u001b[39;00m \u001b[39mself\u001b[39m\u001b[39m.\u001b[39m_forward_hooks \u001b[39mor\u001b[39;00m \u001b[39mself\u001b[39m\u001b[39m.\u001b[39m_forward_pre_hooks \u001b[39mor\u001b[39;00m _global_backward_hooks\n\u001b[1;32m   1129\u001b[0m         \u001b[39mor\u001b[39;00m _global_forward_hooks \u001b[39mor\u001b[39;00m _global_forward_pre_hooks):\n\u001b[0;32m-> 1130\u001b[0m     \u001b[39mreturn\u001b[39;00m forward_call(\u001b[39m*\u001b[39;49m\u001b[39minput\u001b[39;49m, \u001b[39m*\u001b[39;49m\u001b[39m*\u001b[39;49mkwargs)\n\u001b[1;32m   1131\u001b[0m \u001b[39m# Do not call functions when jit is used\u001b[39;00m\n\u001b[1;32m   1132\u001b[0m full_backward_hooks, non_full_backward_hooks \u001b[39m=\u001b[39m [], []\n",
      "File \u001b[0;32m~/anaconda3/envs/py10/lib/python3.10/site-packages/torch/nn/modules/transformer.py:464\u001b[0m, in \u001b[0;36mTransformerEncoderLayer.forward\u001b[0;34m(self, src, src_mask, src_key_padding_mask)\u001b[0m\n\u001b[1;32m    462\u001b[0m \u001b[39melse\u001b[39;00m:\n\u001b[1;32m    463\u001b[0m     x \u001b[39m=\u001b[39m \u001b[39mself\u001b[39m\u001b[39m.\u001b[39mnorm1(x \u001b[39m+\u001b[39m \u001b[39mself\u001b[39m\u001b[39m.\u001b[39m_sa_block(x, src_mask, src_key_padding_mask))\n\u001b[0;32m--> 464\u001b[0m     x \u001b[39m=\u001b[39m \u001b[39mself\u001b[39m\u001b[39m.\u001b[39mnorm2(x \u001b[39m+\u001b[39m \u001b[39mself\u001b[39;49m\u001b[39m.\u001b[39;49m_ff_block(x))\n\u001b[1;32m    466\u001b[0m \u001b[39mreturn\u001b[39;00m x\n",
      "File \u001b[0;32m~/anaconda3/envs/py10/lib/python3.10/site-packages/torch/nn/modules/transformer.py:479\u001b[0m, in \u001b[0;36mTransformerEncoderLayer._ff_block\u001b[0;34m(self, x)\u001b[0m\n\u001b[1;32m    478\u001b[0m \u001b[39mdef\u001b[39;00m \u001b[39m_ff_block\u001b[39m(\u001b[39mself\u001b[39m, x: Tensor) \u001b[39m-\u001b[39m\u001b[39m>\u001b[39m Tensor:\n\u001b[0;32m--> 479\u001b[0m     x \u001b[39m=\u001b[39m \u001b[39mself\u001b[39;49m\u001b[39m.\u001b[39;49mlinear2(\u001b[39mself\u001b[39;49m\u001b[39m.\u001b[39;49mdropout(\u001b[39mself\u001b[39;49m\u001b[39m.\u001b[39;49mactivation(\u001b[39mself\u001b[39;49m\u001b[39m.\u001b[39;49mlinear1(x))))\n\u001b[1;32m    480\u001b[0m     \u001b[39mreturn\u001b[39;00m \u001b[39mself\u001b[39m\u001b[39m.\u001b[39mdropout2(x)\n",
      "File \u001b[0;32m~/anaconda3/envs/py10/lib/python3.10/site-packages/torch/nn/modules/module.py:1130\u001b[0m, in \u001b[0;36mModule._call_impl\u001b[0;34m(self, *input, **kwargs)\u001b[0m\n\u001b[1;32m   1126\u001b[0m \u001b[39m# If we don't have any hooks, we want to skip the rest of the logic in\u001b[39;00m\n\u001b[1;32m   1127\u001b[0m \u001b[39m# this function, and just call forward.\u001b[39;00m\n\u001b[1;32m   1128\u001b[0m \u001b[39mif\u001b[39;00m \u001b[39mnot\u001b[39;00m (\u001b[39mself\u001b[39m\u001b[39m.\u001b[39m_backward_hooks \u001b[39mor\u001b[39;00m \u001b[39mself\u001b[39m\u001b[39m.\u001b[39m_forward_hooks \u001b[39mor\u001b[39;00m \u001b[39mself\u001b[39m\u001b[39m.\u001b[39m_forward_pre_hooks \u001b[39mor\u001b[39;00m _global_backward_hooks\n\u001b[1;32m   1129\u001b[0m         \u001b[39mor\u001b[39;00m _global_forward_hooks \u001b[39mor\u001b[39;00m _global_forward_pre_hooks):\n\u001b[0;32m-> 1130\u001b[0m     \u001b[39mreturn\u001b[39;00m forward_call(\u001b[39m*\u001b[39;49m\u001b[39minput\u001b[39;49m, \u001b[39m*\u001b[39;49m\u001b[39m*\u001b[39;49mkwargs)\n\u001b[1;32m   1131\u001b[0m \u001b[39m# Do not call functions when jit is used\u001b[39;00m\n\u001b[1;32m   1132\u001b[0m full_backward_hooks, non_full_backward_hooks \u001b[39m=\u001b[39m [], []\n",
      "File \u001b[0;32m~/anaconda3/envs/py10/lib/python3.10/site-packages/torch/nn/modules/linear.py:114\u001b[0m, in \u001b[0;36mLinear.forward\u001b[0;34m(self, input)\u001b[0m\n\u001b[1;32m    113\u001b[0m \u001b[39mdef\u001b[39;00m \u001b[39mforward\u001b[39m(\u001b[39mself\u001b[39m, \u001b[39minput\u001b[39m: Tensor) \u001b[39m-\u001b[39m\u001b[39m>\u001b[39m Tensor:\n\u001b[0;32m--> 114\u001b[0m     \u001b[39mreturn\u001b[39;00m F\u001b[39m.\u001b[39;49mlinear(\u001b[39minput\u001b[39;49m, \u001b[39mself\u001b[39;49m\u001b[39m.\u001b[39;49mweight, \u001b[39mself\u001b[39;49m\u001b[39m.\u001b[39;49mbias)\n",
      "\u001b[0;31mKeyboardInterrupt\u001b[0m: "
     ]
    }
   ],
   "source": [
    "# Train the model\n",
    "train(model, train_loader,val_loader= None , num_epochs= 1, \n",
    "      lane_weight = pos_weight, lr_scheduler= False, lr = 0.001)"
   ]
  },
  {
   "cell_type": "code",
   "execution_count": 9,
   "metadata": {},
   "outputs": [],
   "source": [
    "pred_probs, gts = utils.get_roc_probs(model,validation_loader)"
   ]
  },
  {
   "cell_type": "code",
   "execution_count": 10,
   "metadata": {},
   "outputs": [
    {
     "data": {
      "image/png": "[encoded data removed]",
      "text/plain": [
       "<Figure size 640x480 with 1 Axes>"
      ]
     },
     "metadata": {},
     "output_type": "display_data"
    },
    {
     "name": "stdout",
     "output_type": "stream",
     "text": [
      "The optimal threshold is: 0.7804990410804749\n"
     ]
    }
   ],
   "source": [
    "model.roc_flag = True\n",
    "thres = utils.find_threshold(pred_probs,gts)\n",
    "model.roc_flag = False"
   ]
  },
  {
   "cell_type": "code",
   "execution_count": null,
   "metadata": {},
   "outputs": [],
   "source": [
    "# Set new lane threshold and resume training\n",
    "model.lane_threshold = thres\n",
    "# Train the model\n",
    "train(model, train_loader,val_loader= None , num_epochs= 2, \n",
    "      lane_weight = None, lr_scheduler= False, lr = 0.001)"
   ]
  },
  {
   "cell_type": "code",
   "execution_count": 28,
   "metadata": {},
   "outputs": [],
   "source": [
    "# Evaluate on a single sample (for now)\n",
    "model.eval()\n",
    "img_tens, gt = train_set[0]\n",
    "img_tens = img_tens.unsqueeze(0)\n",
    "test = model(img_tens)"
   ]
  },
  {
   "cell_type": "code",
   "execution_count": 29,
   "metadata": {},
   "outputs": [
    {
     "data": {
      "text/plain": [
       "torch.Size([1, 640, 640])"
      ]
     },
     "execution_count": 29,
     "metadata": {},
     "output_type": "execute_result"
    }
   ],
   "source": [
    "test.squeeze(dim=0).shape"
   ]
  },
  {
   "cell_type": "code",
   "execution_count": 30,
   "metadata": {},
   "outputs": [],
   "source": [
    "test = test.squeeze(dim=0)"
   ]
  },
  {
   "cell_type": "code",
   "execution_count": 31,
   "metadata": {},
   "outputs": [
    {
     "data": {
      "text/plain": [
       "tensor([1.])"
      ]
     },
     "execution_count": 31,
     "metadata": {},
     "output_type": "execute_result"
    }
   ],
   "source": [
    "test.unique()"
   ]
  },
  {
   "cell_type": "code",
   "execution_count": 32,
   "metadata": {},
   "outputs": [],
   "source": [
    "# plot image and prediction simultaneously\n",
    "utils.plot_img_pred(img_tens.squeeze(0),test)"
   ]
  },
  {
   "cell_type": "code",
   "execution_count": null,
   "metadata": {},
   "outputs": [],
   "source": []
  }
 ],
 "metadata": {
  "kernelspec": {
   "display_name": "py10",
   "language": "python",
   "name": "python3"
  },
  "language_info": {
   "codemirror_mode": {
    "name": "ipython",
    "version": 3
   },
   "file_extension": ".py",
   "mimetype": "text/x-python",
   "name": "python",
   "nbconvert_exporter": "python",
   "pygments_lexer": "ipython3",
   "version": "3.10.4"
  },
  "orig_nbformat": 4
 },
 "nbformat": 4,
 "nbformat_minor": 2
}
