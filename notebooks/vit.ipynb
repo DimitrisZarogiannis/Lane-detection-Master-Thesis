{
 "cells": [
  {
   "cell_type": "code",
   "execution_count": 2,
   "metadata": {},
   "outputs": [
    {
     "name": "stderr",
     "output_type": "stream",
     "text": [
      "/home/dimitris/anaconda3/envs/py10/lib/python3.10/site-packages/torchvision/io/image.py:13: UserWarning: Failed to load image Python extension: /home/dimitris/anaconda3/envs/py10/lib/python3.10/site-packages/torchvision/image.so: undefined symbol: _ZN5torch3jit17parseSchemaOrNameERKNSt7__cxx1112basic_stringIcSt11char_traitsIcESaIcEEE\n",
      "  warn(f\"Failed to load image Python extension: {e}\")\n"
     ]
    }
   ],
   "source": [
    "# Imports \n",
    "import torch\n",
    "import torch.nn as nn\n",
    "import torch.nn.functional as F\n",
    "import numpy as np\n",
    "import random\n",
    "import cv2\n",
    "import os\n",
    "import json\n",
    "\n",
    "# Set seed for randomize functions (Ez reproduction of results)\n",
    "random.seed(100)\n",
    "\n",
    "# Import TuSimple loader\n",
    "import sys\n",
    "sys.path.insert(0,'../resources/')\n",
    "from tusimple import TuSimple"
   ]
  },
  {
   "cell_type": "code",
   "execution_count": 3,
   "metadata": {},
   "outputs": [],
   "source": [
    "# ROOT DIRECTORIES\n",
    "root_dir = os.path.dirname(os.getcwd())\n",
    "annotated_dir = os.path.join(root_dir,'datasets/tusimple/train_set/annotations')\n",
    "clips_dir = os.path.join(root_dir,'datasets/tusimple/train_set/')\n",
    "annotated = os.listdir(annotated_dir)\n",
    "    \n",
    "# Get path directories for clips and annotations for the TUSimple dataset + ground truth dictionary\n",
    "annotations = list()\n",
    "for gt_file in annotated:\n",
    "    path = os.path.join(annotated_dir,gt_file)\n",
    "    json_gt = [json.loads(line) for line in open(path)]\n",
    "    annotations.append(json_gt)\n",
    "    \n",
    "annotations = [a for f in annotations for a in f]"
   ]
  },
  {
   "cell_type": "code",
   "execution_count": 8,
   "metadata": {},
   "outputs": [],
   "source": [
    "import torch\n",
    "import torch.nn as nn\n",
    "import torch.nn.functional as F\n",
    "import math\n",
    "\n",
    "\n",
    "# Patch embedding class\n",
    "class PatchEmbedding(nn.Module):\n",
    "    def __init__(self, image_size, patch_size, embed_dim, channels):\n",
    "        super().__init__()\n",
    "\n",
    "        self.image_size = image_size\n",
    "        if image_size[0] % patch_size != 0 or image_size[1] % patch_size != 0:\n",
    "            raise ValueError(\"image dimensions must be divisible by the patch size\")\n",
    "        self.grid_size = image_size[0] // patch_size, image_size[1] // patch_size\n",
    "        self.num_patches = self.grid_size[0] * self.grid_size[1]\n",
    "        self.patch_size = patch_size\n",
    "\n",
    "        self.proj = nn.Conv2d(\n",
    "            channels, embed_dim, kernel_size=patch_size, stride=patch_size\n",
    "        )\n",
    "\n",
    "    def forward(self, im):\n",
    "        try:\n",
    "            B, C, H, W = im.shape\n",
    "        except:\n",
    "            _, H, W = im.shape\n",
    "        x = self.proj(im).flatten(2).transpose(1, 2)\n",
    "        return x\n",
    "    \n",
    "    \n",
    "    \n",
    "# B-16 ViT Class\n",
    "class ViT(nn.Module):\n",
    "    def __init__(self, image_size=224, patch_size=16, num_classes=1000, dim=768, depth=12, heads=12, mlp_dim=3072, dropout=0.1):\n",
    "        super().__init__()\n",
    "        self.image_size = image_size\n",
    "        self.patch_size = patch_size\n",
    "        self.num_classes = num_classes\n",
    "        self.dim = dim\n",
    "        self.depth = depth\n",
    "        self.heads = heads\n",
    "        self.mlp_dim = mlp_dim\n",
    "        self.dropout = nn.Dropout(dropout)\n",
    "        self.norm = nn.LayerNorm(dim)\n",
    "\n",
    "        # Calculate the number of patches\n",
    "        self.num_patches = (image_size // patch_size) ** 2\n",
    "        patch_dim = 3 * patch_size ** 2\n",
    "\n",
    "        # Define the patch embedding layer\n",
    "        # self.patch_embedding = nn.Conv2d(in_channels=3, out_channels=dim, kernel_size=patch_size, stride=patch_size)\n",
    "        self.patch_embedding = PatchEmbedding((self.image_size,self.image_size),self.patch_size,self.dim, 3)\n",
    "        \n",
    "        \n",
    "        # Define the positional embedding layer\n",
    "        self.pos_embedding = nn.Parameter(torch.randn(1, self.num_patches, dim))\n",
    "        self.pos_embedding = nn.init.trunc_normal_(self.pos_embedding,std= 0.02)\n",
    "\n",
    "        # Define the transformer layers\n",
    "        self.transformer = nn.TransformerEncoder(\n",
    "            nn.TransformerEncoderLayer(d_model=dim, nhead=heads, dim_feedforward=mlp_dim, dropout=dropout),\n",
    "            num_layers=depth\n",
    "        )\n",
    "\n",
    "        # Define the MLP head for classification\n",
    "        self.mlp_head = nn.Sequential(\n",
    "            nn.LayerNorm(dim),\n",
    "            nn.Linear(dim, num_classes)\n",
    "        )\n",
    "\n",
    "    def forward(self, x, return_features = True):\n",
    "        # Apply the patch embedding layer\n",
    "        \n",
    "        x = self.patch_embedding(x)\n",
    "        \n",
    "        # Reshape the patches and get dimensions\n",
    "        x = x.flatten(2).transpose(1, 2)\n",
    "        \n",
    "        # Resize positional embeddings\n",
    "        if self.image_size != 224:\n",
    "            resized_size = self.image_size\n",
    "            self.resize_pos_embeds(resized_size)\n",
    "            \n",
    "        \n",
    "        # Add the positional embeddings and use dropout\n",
    "        x = (x.reshape(1, -1, 768) + self.pos_embedding)\n",
    "        x = self.dropout(x)\n",
    "        \n",
    "        # Apply the transformer layers\n",
    "        x = self.transformer(x)\n",
    "        \n",
    "        # Apply layer normalization before returning the transformed features \n",
    "        x = self.norm(x)\n",
    "        \n",
    "        if return_features:\n",
    "            return x\n",
    "\n",
    "        else: \n",
    "            # Apply the MLP head\n",
    "        \n",
    "            # Average over the sequence dimension (average over all transformed patch sequences) \n",
    "            # NOTE: Probably should be removed on segmentation tasks\n",
    "            x = x.mean(dim=1)  \n",
    "        \n",
    "            # Classification head (Optional with added class embedding for classification tasks)\n",
    "            x = self.mlp_head(x)\n",
    "\n",
    "            return x\n",
    "\n",
    "    # Resize pos embeddings functionality for tuning the ViT to accept resized images\n",
    "    def resize_pos_embeds(self, new_image_size):\n",
    "        # Get the original size of the positional embeddings\n",
    "        orig_pos_embeds = self.pos_embedding\n",
    "\n",
    "        # Calculate the number of patches for the new image size\n",
    "        new_num_patches = (new_image_size // self.patch_size) ** 2\n",
    "\n",
    "        # Define the new size of the positional embeddings based on the new number of patches\n",
    "        new_embed_size = (new_num_patches, self.dim)  # Keep the same number of tokens\n",
    "        new_pos_embeds = F.interpolate(orig_pos_embeds.unsqueeze(0), size=new_embed_size).squeeze(0)\n",
    "\n",
    "        # Replace the original positional embeddings with the new ones\n",
    "        self.pos_embedding = nn.Parameter(new_pos_embeds)\n",
    "    "
   ]
  },
  {
   "cell_type": "code",
   "execution_count": 5,
   "metadata": {},
   "outputs": [],
   "source": [
    "dataset = TuSimple(train_annotations = annotations, train_img_dir = clips_dir, resize_to = (640,640), subset_size = 0.05)\n",
    "    \n",
    "img_tns, gt = dataset[0]"
   ]
  },
  {
   "cell_type": "code",
   "execution_count": 6,
   "metadata": {},
   "outputs": [],
   "source": [
    "# Instantiate a ViT model\n",
    "model = ViT(image_size=640, patch_size=16, num_classes=10, dim=768, depth=12, heads=12, mlp_dim=3072, dropout=0.1)"
   ]
  },
  {
   "cell_type": "code",
   "execution_count": 7,
   "metadata": {},
   "outputs": [
    {
     "data": {
      "text/plain": [
       "torch.Size([1, 1600, 768])"
      ]
     },
     "execution_count": 7,
     "metadata": {},
     "output_type": "execute_result"
    }
   ],
   "source": [
    "test =model(img_tns)\n",
    "test.shape"
   ]
  }
 ],
 "metadata": {
  "kernelspec": {
   "display_name": "py10",
   "language": "python",
   "name": "python3"
  },
  "language_info": {
   "codemirror_mode": {
    "name": "ipython",
    "version": 3
   },
   "file_extension": ".py",
   "mimetype": "text/x-python",
   "name": "python",
   "nbconvert_exporter": "python",
   "pygments_lexer": "ipython3",
   "version": "3.10.4"
  },
  "orig_nbformat": 4
 },
 "nbformat": 4,
 "nbformat_minor": 2
}
